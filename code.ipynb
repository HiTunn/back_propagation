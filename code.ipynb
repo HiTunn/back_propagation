{
  "nbformat": 4,
  "nbformat_minor": 0,
  "metadata": {
    "colab": {
      "name": "baitap.ipynb",
      "provenance": [],
      "collapsed_sections": []
    },
    "kernelspec": {
      "name": "python3",
      "display_name": "Python 3"
    },
    "language_info": {
      "name": "python"
    }
  },
  "cells": [
    {
      "cell_type": "code",
      "execution_count": 11,
      "metadata": {
        "colab": {
          "base_uri": "https://localhost:8080/"
        },
        "id": "pls6LwTmszKl",
        "outputId": "398ab077-66f1-408c-83e2-35807eb58e4c"
      },
      "outputs": [
        {
          "output_type": "stream",
          "name": "stdout",
          "text": [
            "load data form MNIST\n",
            "---------------------------------\n",
            "(60000, 784)\n",
            "(60000, 10)\n"
          ]
        }
      ],
      "source": [
        "import tensorflow as tf\n",
        "import numpy as np \n",
        "import matplotlib.pyplot as plt \n",
        "print('load data form MNIST')\n",
        "mnist = tf.keras.datasets.mnist \n",
        "(x_train, y_train), (x_test,y_test) = mnist.load_data()\n",
        "x_train = np.reshape(x_train,(60000,784))/255.0\n",
        "x_test = np.reshape(x_test,(10000,784))/255.0\n",
        "y_train = np.matrix(np.eye(10)[y_train])\n",
        "y_test = np.matrix(np.eye(10)[y_test])\n",
        "\n",
        "print(\"---------------------------------\")\n",
        "print(x_train.shape)\n",
        "print(y_train.shape)\n"
      ]
    },
    {
      "cell_type": "code",
      "source": [
        "\n",
        "def sigmoid(x):\n",
        "  return 1./(1.+np.exp(-x))\n",
        "  \n",
        "def softmax(x):\n",
        "  return np.divide(np.matrix(np.exp(x)),np.mat(np.sum(np.exp(x),axis=1)))\n",
        "\n",
        "def relu(x):\n",
        "  return (np.maximum(0,x))\n",
        "# def relu(x):\n",
        "#   data = [max(0,value) for value in x]\n",
        "#   return np.array(data) \n"
      ],
      "metadata": {
        "id": "Iw6Lfi7Rs9O0"
      },
      "execution_count": 12,
      "outputs": []
    },
    {
      "cell_type": "code",
      "source": [
        "def Forwardpass(X,Wh2,Wh1,bh1,bh2,Wo,bo):\n",
        "  zh1 = X@Wh1.T + bh1\n",
        "  a1 = relu(zh1)\n",
        "  zh2 = a1@Wh2.T + bh2\n",
        "  a2 = sigmoid(zh2)\n",
        "  z=a2@Wo.T + bo\n",
        "  o = softmax(z)\n",
        "  return o"
      ],
      "metadata": {
        "id": "tjzaGXMntlc7"
      },
      "execution_count": 13,
      "outputs": []
    },
    {
      "cell_type": "code",
      "source": [
        "learningRate = 0.5\n",
        "Epoch=10\n",
        "NumTrainSamples=60000\n",
        "NumTestSamples=10000\n",
        "NumInputs=784\n",
        "NumHiddenUnits=512\n"
      ],
      "metadata": {
        "id": "3FOuOtICtiFF"
      },
      "execution_count": 14,
      "outputs": []
    },
    {
      "cell_type": "code",
      "source": [
        "def AccTest(label,prediction): # calculate the matching score\n",
        "  OutMaxArg=np.argmax(prediction,axis=1)\n",
        "  LabelMaxArg=np.argmax(label,axis=1)\n",
        "  Accuracy=np.mean(OutMaxArg==LabelMaxArg)\n",
        "  return Accuracy"
      ],
      "metadata": {
        "id": "gAaZVHxctrGy"
      },
      "execution_count": 15,
      "outputs": []
    },
    {
      "cell_type": "code",
      "source": [
        "NumClasses=10\n",
        "#hidden 1\n",
        "Wh1=np.matrix(np.random.uniform(-0.5,0.5,(NumHiddenUnits,NumInputs)))\n",
        "bh1= np.random.uniform(0,0.5,(1,NumHiddenUnits))\n",
        "#hidden 2\n",
        "Wh2=np.matrix(np.random.uniform(-0.5,0.5,(NumHiddenUnits,NumHiddenUnits)))\n",
        "bh2= np.random.uniform(0,0.5,(1,NumHiddenUnits))\n",
        "\n",
        "dWh1= np.zeros((NumHiddenUnits,NumInputs))\n",
        "dWh2= np.zeros((NumHiddenUnits,NumHiddenUnits))\n",
        "dbh1= np.zeros((1,NumHiddenUnits))\n",
        "dbh2= np.zeros((1,NumHiddenUnits))\n",
        "#Output layer\n",
        "Wo=np.random.uniform(-0.5,0.5,(NumClasses,NumHiddenUnits))\n",
        "bo= np.random.uniform(0,0.5,(1,NumClasses))\n",
        "dWo= np.zeros((NumClasses,NumHiddenUnits))\n",
        "dbo= np.zeros((1,NumClasses))"
      ],
      "metadata": {
        "id": "B6RiCWVptugC"
      },
      "execution_count": 16,
      "outputs": []
    },
    {
      "cell_type": "code",
      "source": [
        "#test accuracy with random inititial weights \n",
        "prediction = Forwardpass(x_train,Wh2,Wh1,bh1,bh2,Wo,bo)\n",
        "Acc = AccTest(y_train, prediction)\n",
        "print(Acc)"
      ],
      "metadata": {
        "colab": {
          "base_uri": "https://localhost:8080/"
        },
        "id": "yXVP8avDtysZ",
        "outputId": "6c97a7e0-a020-4a22-b416-eb1d04c63411"
      },
      "execution_count": 17,
      "outputs": [
        {
          "output_type": "stream",
          "name": "stdout",
          "text": [
            "0.10456666666666667\n"
          ]
        }
      ]
    },
    {
      "cell_type": "code",
      "source": [
        "#mini batch SGD\n",
        "from IPython.display import clear_output\n",
        "loss = []\n",
        "Acc = []\n",
        "Batch_size = 200\n",
        "Stochastic_samples = np.arange(NumTrainSamples) #0, 1,2,3,4,5...59999\n",
        "def derivative_relu(x):\n",
        "  x[x<=0] = 0\n",
        "  x[x>0] = 1\n",
        "  return x\n",
        "\n",
        "\n",
        "for ep in range (Epoch):\n",
        "  np.random.shuffle(Stochastic_samples)\n",
        "  for ite in range (0,NumTrainSamples,Batch_size):\n",
        "  #feed fordware propagation\n",
        "    Batch_samples = Stochastic_samples[ite:ite+Batch_size]\n",
        "    x = x_train[Batch_samples,:]\n",
        "    y=y_train[Batch_samples,:]\n",
        "    zh1 = x@Wh1.T + bh1\n",
        "    a1 = relu(zh1)\n",
        "    zh2 = a1@Wh2.T + bh2\n",
        "    a2 = sigmoid(zh2)\n",
        "    z=a2@Wo.T + bo\n",
        "    o = softmax(z)\n",
        "    #calculate loss\n",
        "    loss.append(-np.sum(np.multiply(y,np.log10(o))))\n",
        "    #calculate the error for the ouput layer\n",
        "    d = o-y\n",
        "    #Back propagate error\n",
        "    dh = d@Wo\n",
        "    dhs = np.multiply(np.multiply(dh,a2),(1-a2))\n",
        "    dh1 = dhs@Wh2\n",
        "    dhr = np.multiply(derivative_relu(a1),dh1)\n",
        "    #update weight\n",
        "\n",
        "    dWo = np.matmul(np.transpose(d),a2)\n",
        "    dbo = np.mean(d) # consider a is 1 for bias\n",
        "    dWh2 = np.matmul(np.transpose(dhs),a1)\n",
        "    dbh2 = np.mean(dhs) # consider a is 1 for bias\n",
        "    dWh1 = np.matmul(np.transpose(dhr),x)\n",
        "    dbh1 = np.mean(dhr) # consider a is 1 for bias\n",
        "    \n",
        "    Wo =Wo - learningRate*dWo/Batch_size\n",
        "    bo =bo - learningRate*dbo\n",
        "\n",
        "    Wh2 =Wh2-learningRate*dWh2/Batch_size\n",
        "    bh2 =bh2-learningRate*dbh2\n",
        "\n",
        "    Wh1 =Wh1-learningRate*dWh1/Batch_size\n",
        "    bh1 =bh1-learningRate*dbh1\n",
        "  #Test accuracy with random innitial weights\n",
        "  prediction = Forwardpass(x_test,Wh2,Wh1,bh1,bh2,Wo,bo)\n",
        "  Acc.append(AccTest(y_test,prediction))\n",
        "  # clear_output(wait=TrueqTrueq)\n",
        "  # plt.plot([i for i, _ in enumerate(Acc)],Acc,'o')\n",
        "  # plt.show()\n",
        "  print('Epoch:', ep )\n",
        "  print('Accuracy:',AccTest(y_test,prediction))\n",
        "  "
      ],
      "metadata": {
        "colab": {
          "base_uri": "https://localhost:8080/"
        },
        "id": "s3gixMABt--r",
        "outputId": "7d690b6a-ca81-45d4-d110-d6c9e753941a"
      },
      "execution_count": 18,
      "outputs": [
        {
          "output_type": "stream",
          "name": "stdout",
          "text": [
            "Epoch: 0\n",
            "Accuracy: 0.927\n",
            "Epoch: 1\n",
            "Accuracy: 0.9421\n",
            "Epoch: 2\n",
            "Accuracy: 0.9489\n",
            "Epoch: 3\n",
            "Accuracy: 0.9542\n",
            "Epoch: 4\n",
            "Accuracy: 0.9574\n",
            "Epoch: 5\n",
            "Accuracy: 0.9577\n",
            "Epoch: 6\n",
            "Accuracy: 0.9605\n",
            "Epoch: 7\n",
            "Accuracy: 0.9614\n",
            "Epoch: 8\n",
            "Accuracy: 0.9632\n",
            "Epoch: 9\n",
            "Accuracy: 0.9625\n"
          ]
        }
      ]
    }
  ]
}